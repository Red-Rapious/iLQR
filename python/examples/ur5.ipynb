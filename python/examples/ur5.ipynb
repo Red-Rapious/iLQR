{
 "cells": [
  {
   "cell_type": "code",
   "execution_count": 1,
   "metadata": {},
   "outputs": [],
   "source": [
    "import math\n",
    "import time\n",
    "import numpy as np\n",
    "from matplotlib import pyplot as plt\n",
    "import pinocchio as pin\n",
    "import example_robot_data as robex\n",
    "from pinocchio.visualize import MeshcatVisualizer as Visualizer\n",
    "from ilqr import ILQRSolver, InstableError\n",
    "import sys"
   ]
  },
  {
   "cell_type": "code",
   "execution_count": 2,
   "metadata": {},
   "outputs": [],
   "source": [
    "robot = robex.load('ur5')"
   ]
  },
  {
   "cell_type": "code",
   "execution_count": 3,
   "metadata": {},
   "outputs": [
    {
     "name": "stdout",
     "output_type": "stream",
     "text": [
      "You can open the visualizer by visiting the following URL:\n",
      "http://127.0.0.1:7000/static/\n"
     ]
    }
   ],
   "source": [
    "# Initialize the viewer.\n",
    "try:\n",
    "    viz = Visualizer(robot.model, robot.collision_model, robot.visual_model)\n",
    "    viz.initViewer(loadModel=True)\n",
    "except ImportError as err:\n",
    "    print(\n",
    "        \"Error while initializing the viewer. \"\n",
    "        \"It seems you should install gepetto-viewer\"\n",
    "    )\n",
    "    print(err)\n",
    "    sys.exit(0)\n",
    "\n",
    "try:\n",
    "    viz.loadViewerModel(\"pinocchio\")\n",
    "except AttributeError as err:\n",
    "    print(\n",
    "        \"Error while loading the viewer model. \"\n",
    "        \"It seems you should start gepetto-viewer\"\n",
    "    )\n",
    "    print(err)\n",
    "    sys.exit(0)"
   ]
  },
  {
   "cell_type": "code",
   "execution_count": 4,
   "metadata": {},
   "outputs": [],
   "source": [
    "q0 = np.random.rand(robot.model.nq) * 2 * np.pi - np.pi\n",
    "viz.display(q0)\n",
    "robot.model.gravity = pin.Motion.Zero() # disable gravity"
   ]
  },
  {
   "cell_type": "code",
   "execution_count": 5,
   "metadata": {},
   "outputs": [
    {
     "name": "stdout",
     "output_type": "stream",
     "text": [
      "Solution Kind: converged\n",
      "Time Taken: 0.230588792\n",
      "Iteration Needed: 7\n"
     ]
    }
   ],
   "source": [
    "dt = 0.01\n",
    "T = 5\n",
    "N = math.floor(T / dt)\n",
    "\n",
    "state_dim = robot.model.nq + robot.model.nv\n",
    "control_dim = robot.model.nq\n",
    "\n",
    "Q = np.zeros((state_dim, state_dim))  # state cost\n",
    "Qf = np.eye(state_dim)  # final state cost\n",
    "R = 1e-3 * np.eye(control_dim)  # control cost (minimize the energy)\n",
    "\n",
    "s = ILQRSolver(state_dim, control_dim, Q, Qf, R)\n",
    "\n",
    "\n",
    "def compute_jac(x, u):\n",
    "    q, v = x[:robot.model.nq], x[robot.model.nq:]\n",
    "\n",
    "    a = pin.aba(robot.model, robot.data, q, v, u)\n",
    "    new_v = v + a * dt\n",
    "\n",
    "    J1_q, J1_v, J1_u = pin.computeABADerivatives(robot.model, robot.data, q, v, u)\n",
    "    J2_q, J2_v_prim = pin.dIntegrate(robot.model, q, new_v * dt)\n",
    "\n",
    "    dnew_v_dq = J1_q * dt\n",
    "    dnew_v_dv = np.eye(robot.model.nv) + J1_v * dt\n",
    "    dnew_v_du = J1_u * dt\n",
    "\n",
    "    dnew_q_dq = J2_q + J2_v_prim @ dnew_v_dq * dt\n",
    "    dnew_q_dv = J2_v_prim @ dnew_v_dv * dt\n",
    "    dnew_q_du = J2_v_prim @ dnew_v_du * dt\n",
    "\n",
    "    jac_x = np.block([[dnew_q_dq, dnew_q_dv], [dnew_v_dq, dnew_v_dv]])\n",
    "    jac_u = np.vstack((dnew_q_du, dnew_v_du))\n",
    "\n",
    "    return jac_x, jac_u\n",
    "\n",
    "def dynamics(x, u):\n",
    "    q, v = x[:robot.model.nq], x[robot.model.nq:]\n",
    "\n",
    "    # apply the ABA algorithm to compute the acceleration\n",
    "    a = pin.aba(robot.model, robot.data, q, v, u)\n",
    "\n",
    "    # integrate the acceleration to get the new state\n",
    "    v += a * dt\n",
    "    q = pin.integrate(robot.model, q, v * dt)\n",
    "\n",
    "    return np.concat((q, v))\n",
    "\n",
    "\n",
    "# target = np.concatenate((robot.q0, np.zeros(robot.model.nv)))   # stay where you are\n",
    "target_q = np.random.rand(robot.model.nq) * 2 * np.pi - np.pi # random position\n",
    "target = np.concatenate((target_q, np.zeros(robot.model.nv)))\n",
    "try:\n",
    "    output = s.solve(np.concatenate((q0, np.zeros(robot.nv))), target, dynamics,\n",
    "                 jacobians=compute_jac, time_steps=N, max_iterations=30,\n",
    "                 gradient_clip=10, full_output=True, cost_threshold=0.2, initialization=0.01, regularize=True)\n",
    "\n",
    "    print(f\"Solution Kind: {output['kind']}\")\n",
    "    print(f\"Time Taken: {output['time_taken']}\")\n",
    "    print(f\"Iteration Needed: {output['it_taken']}\")\n",
    "except InstableError as err:\n",
    "    last_error = err\n",
    "    raise err"
   ]
  },
  {
   "cell_type": "code",
   "execution_count": 6,
   "metadata": {},
   "outputs": [],
   "source": [
    "# For debugging:\n",
    "# last_error.control\n",
    "# last_error.out_state\n",
    "# last_error.xs\n",
    "# last_error.Ks\n",
    "# last_error.ds"
   ]
  },
  {
   "cell_type": "code",
   "execution_count": 7,
   "metadata": {},
   "outputs": [
    {
     "data": {
      "image/png": "[encoded data removed]",
      "text/plain": [
       "<Figure size 640x480 with 1 Axes>"
      ]
     },
     "metadata": {},
     "output_type": "display_data"
    }
   ],
   "source": [
    "nb_it = len(output['cost'])\n",
    "\n",
    "plt.semilogy(np.arange(nb_it), output['cost'], label='Cost')\n",
    "plt.semilogy(np.arange(nb_it), output['gradient_norm'], label='Gradient Norm')\n",
    "plt.legend()\n",
    "plt.xlabel(\"Number of iterations\")\n",
    "plt.show()"
   ]
  },
  {
   "cell_type": "code",
   "execution_count": 8,
   "metadata": {},
   "outputs": [],
   "source": [
    "viz.display(q0)"
   ]
  },
  {
   "cell_type": "code",
   "execution_count": 9,
   "metadata": {},
   "outputs": [],
   "source": [
    "q, v = q0, np.zeros(robot.model.nv)\n",
    "\n",
    "t = 0.0\n",
    "for k in range(N):\n",
    "    tic = time.time()\n",
    "\n",
    "    tau_control = output['control'][k]\n",
    "    x = dynamics(np.concat((q, v)), tau_control)\n",
    "    q, v = x[:robot.model.nq], x[robot.model.nq:]\n",
    "\n",
    "    viz.display(q)\n",
    "\n",
    "    toc = time.time()\n",
    "    ellapsed = toc - tic\n",
    "    dt_sleep = max(0, dt - (ellapsed))\n",
    "\n",
    "    time.sleep(dt_sleep)\n",
    "    t += dt"
   ]
  },
  {
   "cell_type": "code",
   "execution_count": 10,
   "metadata": {},
   "outputs": [
    {
     "name": "stdout",
     "output_type": "stream",
     "text": [
      "Final q: [ 0.23796987 -0.60411953  2.80405269  3.13652921  0.86119154 -0.95513028]\n",
      "Target q: [ 0.23595929 -0.60743842  2.78143221  3.12028079  0.87114085 -0.96511552]\n",
      "\n",
      "Final v: [ 0.05267195 -0.23456819 -0.05101985 -0.04614928 -0.00759049 -0.01164297]\n",
      "Target v: [0. 0. 0. 0. 0. 0.]\n",
      "\n",
      "Error: 0.25241\n"
     ]
    }
   ],
   "source": [
    "print(f\"Final q: {q}\")\n",
    "print(f\"Target q: {target[:robot.model.nq]}\")\n",
    "print()\n",
    "print(f\"Final v: {v}\")\n",
    "print(f\"Target v: {target[robot.model.nq:]}\")\n",
    "print()\n",
    "print(f\"Error: {np.linalg.norm(target - x):.5f}\")"
   ]
  }
 ],
 "metadata": {
  "kernelspec": {
   "display_name": "ilqr_demo",
   "language": "python",
   "name": "python3"
  },
  "language_info": {
   "codemirror_mode": {
    "name": "ipython",
    "version": 3
   },
   "file_extension": ".py",
   "mimetype": "text/x-python",
   "name": "python",
   "nbconvert_exporter": "python",
   "pygments_lexer": "ipython3",
   "version": "3.10.16"
  }
 },
 "nbformat": 4,
 "nbformat_minor": 2
}
