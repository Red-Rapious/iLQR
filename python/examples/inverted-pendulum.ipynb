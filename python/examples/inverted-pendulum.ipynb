{
 "cells": [
  {
   "cell_type": "code",
   "execution_count": 8,
   "metadata": {},
   "outputs": [],
   "source": [
    "import math\n",
    "import sys\n",
    "import time\n",
    "\n",
    "import hppfcl as fcl\n",
    "import numpy as np\n",
    "import pinocchio as pin\n",
    "from pinocchio.visualize import MeshcatVisualizer\n",
    "import meshcat\n",
    "\n",
    "import ilqr"
   ]
  },
  {
   "cell_type": "code",
   "execution_count": 2,
   "metadata": {},
   "outputs": [
    {
     "name": "stderr",
     "output_type": "stream",
     "text": [
      "/var/folders/pr/wxvx7wlx1r5fczqp1p8qmmr80000gp/T/ipykernel_46788/2405696514.py:11: UserWarning: This function has been marked as deprecated and will be removed in a future release.\n",
      "  geom0_obj = pin.GeometryObject(\"base\", 0, shape0, pin.SE3.Identity())\n"
     ]
    },
    {
     "data": {
      "text/plain": [
       "0"
      ]
     },
     "execution_count": 2,
     "metadata": {},
     "output_type": "execute_result"
    }
   ],
   "source": [
    "N = 1  # number of pendulums\n",
    "model = pin.Model()\n",
    "geom_model = pin.GeometryModel()\n",
    "\n",
    "parent_id = 0\n",
    "joint_placement = pin.SE3.Identity()\n",
    "body_mass = 1.0\n",
    "body_radius = 0.1\n",
    "\n",
    "shape0 = fcl.Sphere(body_radius)\n",
    "geom0_obj = pin.GeometryObject(\"base\", 0, shape0, pin.SE3.Identity())\n",
    "geom0_obj.meshColor = np.array([1.0, 0.1, 0.1, 1.0])\n",
    "geom_model.addGeometryObject(geom0_obj)"
   ]
  },
  {
   "cell_type": "code",
   "execution_count": 3,
   "metadata": {},
   "outputs": [
    {
     "name": "stderr",
     "output_type": "stream",
     "text": [
      "/var/folders/pr/wxvx7wlx1r5fczqp1p8qmmr80000gp/T/ipykernel_46788/623485344.py:14: UserWarning: This function has been marked as deprecated and will be removed in a future release.\n",
      "  geom1_obj = pin.GeometryObject(geom1_name, joint_id, shape1, body_placement)\n",
      "/var/folders/pr/wxvx7wlx1r5fczqp1p8qmmr80000gp/T/ipykernel_46788/623485344.py:23: UserWarning: This function has been marked as deprecated and will be removed in a future release.\n",
      "  geom2_obj = pin.GeometryObject(geom2_name, joint_id, shape2, shape2_placement)\n"
     ]
    }
   ],
   "source": [
    "for k in range(N):\n",
    "    joint_name = \"joint_\" + str(k + 1)\n",
    "    joint_id = model.addJoint(\n",
    "        parent_id, pin.JointModelRY(), joint_placement, joint_name\n",
    "    )\n",
    "\n",
    "    body_inertia = pin.Inertia.FromSphere(body_mass, body_radius)\n",
    "    body_placement = joint_placement.copy()\n",
    "    body_placement.translation[2] = 1.0\n",
    "    model.appendBodyToJoint(joint_id, body_inertia, body_placement)\n",
    "\n",
    "    geom1_name = \"ball_\" + str(k + 1)\n",
    "    shape1 = fcl.Sphere(body_radius)\n",
    "    geom1_obj = pin.GeometryObject(geom1_name, joint_id, shape1, body_placement)\n",
    "    geom1_obj.meshColor = np.ones(4)\n",
    "    geom_model.addGeometryObject(geom1_obj)\n",
    "\n",
    "    geom2_name = \"bar_\" + str(k + 1)\n",
    "    shape2 = fcl.Cylinder(body_radius / 4.0, body_placement.translation[2])\n",
    "    shape2_placement = body_placement.copy()\n",
    "    shape2_placement.translation[2] /= 2.0\n",
    "\n",
    "    geom2_obj = pin.GeometryObject(geom2_name, joint_id, shape2, shape2_placement)\n",
    "    geom2_obj.meshColor = np.array([0.0, 0.0, 0.0, 1.0])\n",
    "    geom_model.addGeometryObject(geom2_obj)\n",
    "\n",
    "    parent_id = joint_id\n",
    "    joint_placement = body_placement.copy()\n",
    "\n",
    "\n",
    "visual_model = geom_model\n",
    "viz = MeshcatVisualizer(model, geom_model, visual_model)"
   ]
  },
  {
   "cell_type": "code",
   "execution_count": 4,
   "metadata": {},
   "outputs": [
    {
     "name": "stdout",
     "output_type": "stream",
     "text": [
      "You can open the visualizer by visiting the following URL:\n",
      "http://127.0.0.1:7004/static/\n"
     ]
    }
   ],
   "source": [
    "visual_model = geom_model\n",
    "viz = MeshcatVisualizer(model, geom_model, visual_model)\n",
    "\n",
    "# Initialize the viewer.\n",
    "try:\n",
    "    viz.initViewer(loadModel=True, viewer=meshcat.Visualizer())\n",
    "except ImportError as err:\n",
    "    print(\n",
    "        \"Error while initializing the viewer. \"\n",
    "        \"It seems you should install gepetto-viewer\"\n",
    "    )\n",
    "    print(err)\n",
    "    sys.exit(0)\n",
    "\n",
    "try:\n",
    "    viz.loadViewerModel(\"pinocchio\")\n",
    "except AttributeError as err:\n",
    "    print(\n",
    "        \"Error while loading the viewer model. \"\n",
    "        \"It seems you should start gepetto-viewer\"\n",
    "    )\n",
    "    print(err)\n",
    "    sys.exit(0)"
   ]
  },
  {
   "cell_type": "code",
   "execution_count": 6,
   "metadata": {},
   "outputs": [],
   "source": [
    "# Display a robot configuration.\n",
    "q0 = pin.neutral(model)\n",
    "viz.display(q0)\n",
    "\n",
    "# Play a bit with the simulation\n",
    "dt = 0.01\n",
    "T = 5\n",
    "\n",
    "N = math.floor(T / dt)\n",
    "\n",
    "model.lowerPositionLimit.fill(-math.pi)\n",
    "model.upperPositionLimit.fill(+math.pi)\n",
    "q = pin.randomConfiguration(model)\n",
    "v = np.zeros(model.nv)\n",
    "\n",
    "def dynamics(x, u):\n",
    "    q, v = x\n",
    "    a = pin.aba(model, data_sim, q, v, u)\n",
    "\n",
    "    v += a * dt\n",
    "    # q += v*dt\n",
    "    q = pin.integrate(model, q, v * dt)\n",
    "    return q, v\n",
    "\n",
    "t = 0.0\n",
    "data_sim = model.createData()\n",
    "for k in range(N):\n",
    "    tau_control = np.zeros(model.nv)\n",
    "    q, v = dynamics((q, v), tau_control)\n",
    "\n",
    "    viz.display(q)\n",
    "    time.sleep(dt)\n",
    "    t += dt"
   ]
  }
 ],
 "metadata": {
  "kernelspec": {
   "display_name": "ilqr_demo",
   "language": "python",
   "name": "python3"
  },
  "language_info": {
   "codemirror_mode": {
    "name": "ipython",
    "version": 3
   },
   "file_extension": ".py",
   "mimetype": "text/x-python",
   "name": "python",
   "nbconvert_exporter": "python",
   "pygments_lexer": "ipython3",
   "version": "3.10.16"
  }
 },
 "nbformat": 4,
 "nbformat_minor": 2
}
