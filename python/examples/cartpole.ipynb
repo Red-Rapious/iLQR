{
 "cells": [
  {
   "cell_type": "markdown",
   "metadata": {},
   "source": [
    "# Cartpole\n",
    "This code is based on [the cartpole example](https://github.com/stack-of-tasks/pinocchio/blob/master/examples/simulation-pendulum.py) provided by the [Pinocchio](https://stack-of-tasks.github.io/pinocchio/) library. The goal is to balance a pendulum in the upright position by moving the cart below.\n",
    "\n",
    "The state of the system $x=[y\\:\\:\\:\\theta\\:\\:\\:\\dot{y}\\:\\:\\:\\dot{\\theta}]$ is by the position of the cart $y$, the angle of the pendulum $\\theta$, and their temporal derivatives. The control input $u$ is the force applied to the cart."
   ]
  },
  {
   "cell_type": "code",
   "execution_count": 1,
   "metadata": {},
   "outputs": [],
   "source": [
    "import math\n",
    "import sys\n",
    "import time\n",
    "from matplotlib import pyplot as plt\n",
    "\n",
    "import hppfcl as fcl\n",
    "import numpy as np\n",
    "import pinocchio as pin\n",
    "from pinocchio.visualize import MeshcatVisualizer as Visualizer\n",
    "import ilqr"
   ]
  },
  {
   "cell_type": "code",
   "execution_count": 2,
   "metadata": {},
   "outputs": [],
   "source": [
    "Nb_pendulums = 1  # number of pendulums\n",
    "\n",
    "model = pin.Model()\n",
    "geom_model = pin.GeometryModel()\n",
    "\n",
    "parent_id = 0\n",
    "\n",
    "cart_radius = 0.1\n",
    "cart_length = 5 * cart_radius\n",
    "cart_mass = 2.0\n",
    "joint_name = \"joint_cart\"\n",
    "\n",
    "geometry_placement = pin.SE3.Identity()\n",
    "geometry_placement.rotation = pin.Quaternion(\n",
    "    np.array([0.0, 0.0, 1.0]), np.array([0.0, 1.0, 0.0])\n",
    ").toRotationMatrix()\n",
    "\n",
    "joint_id = model.addJoint(\n",
    "    parent_id, pin.JointModelPY(), pin.SE3.Identity(), joint_name\n",
    ")\n",
    "\n",
    "body_inertia = pin.Inertia.FromCylinder(cart_mass, cart_radius, cart_length)\n",
    "body_placement = geometry_placement\n",
    "# We need to rotate the inertia as it is expressed in the LOCAL frame of the\n",
    "# geometry.\n",
    "model.appendBodyToJoint(joint_id, body_inertia, body_placement)\n",
    "\n",
    "shape_cart = fcl.Cylinder(cart_radius, cart_length)\n",
    "\n",
    "geom_cart = pin.GeometryObject(\n",
    "    \"shape_cart\", joint_id, geometry_placement, shape_cart\n",
    ")\n",
    "geom_cart.meshColor = np.array([1.0, 0.1, 0.1, 1.0])\n",
    "geom_model.addGeometryObject(geom_cart)\n",
    "\n",
    "parent_id = joint_id\n",
    "\n",
    "joint_placement = pin.SE3.Identity()\n",
    "body_mass = 1.0\n",
    "body_radius = 0.1\n",
    "\n",
    "for k in range(Nb_pendulums):\n",
    "    joint_name = \"joint_\" + str(k + 1)\n",
    "    joint_id = model.addJoint(\n",
    "        parent_id, pin.JointModelRX(), joint_placement, joint_name\n",
    "    )\n",
    "\n",
    "    body_inertia = pin.Inertia.FromSphere(body_mass, body_radius)\n",
    "    body_placement = joint_placement.copy()\n",
    "    body_placement.translation[2] = 1.0\n",
    "    model.appendBodyToJoint(joint_id, body_inertia, body_placement)\n",
    "\n",
    "    geom1_name = \"ball_\" + str(k + 1)\n",
    "    shape1 = fcl.Sphere(body_radius)\n",
    "    geom1_obj = pin.GeometryObject(geom1_name, joint_id, body_placement, shape1)\n",
    "    geom1_obj.meshColor = np.ones(4)\n",
    "    geom_model.addGeometryObject(geom1_obj)\n",
    "\n",
    "    geom2_name = \"bar_\" + str(k + 1)\n",
    "    shape2 = fcl.Cylinder(body_radius / 4.0, body_placement.translation[2])\n",
    "    shape2_placement = body_placement.copy()\n",
    "    shape2_placement.translation[2] /= 2.0\n",
    "\n",
    "    geom2_obj = pin.GeometryObject(geom2_name, joint_id, shape2_placement, shape2)\n",
    "    geom2_obj.meshColor = np.array([0.0, 0.0, 0.0, 1.0])\n",
    "    geom_model.addGeometryObject(geom2_obj)\n",
    "\n",
    "    parent_id = joint_id\n",
    "    joint_placement = body_placement.copy()"
   ]
  },
  {
   "cell_type": "code",
   "execution_count": 3,
   "metadata": {},
   "outputs": [
    {
     "name": "stdout",
     "output_type": "stream",
     "text": [
      "You can open the visualizer by visiting the following URL:\n",
      "http://127.0.0.1:7000/static/\n"
     ]
    }
   ],
   "source": [
    "visual_model = geom_model\n",
    "# Initialize the viewer.\n",
    "try:\n",
    "    viz = Visualizer(model, geom_model, visual_model)\n",
    "    viz.initViewer()\n",
    "except ImportError as err:\n",
    "    print(\n",
    "        \"Error while initializing the viewer. \"\n",
    "        \"It seems you should install gepetto-viewer\"\n",
    "    )\n",
    "    print(err)\n",
    "    sys.exit(0)\n",
    "\n",
    "try:\n",
    "    viz.loadViewerModel(\"pinocchio\")\n",
    "except AttributeError as err:\n",
    "    print(\n",
    "        \"Error while loading the viewer model. \"\n",
    "        \"It seems you should start gepetto-viewer\"\n",
    "    )\n",
    "    print(err)\n",
    "    sys.exit(0)\n",
    "\n",
    "# Display a robot configuration.\n",
    "q0 = pin.neutral(model)\n",
    "viz.display(q0)"
   ]
  },
  {
   "cell_type": "code",
   "execution_count": 4,
   "metadata": {},
   "outputs": [
    {
     "name": "stdout",
     "output_type": "stream",
     "text": [
      "Solution Kind: converged\n",
      "Time Taken: 0.452360795\n",
      "Iteration Needed: 22\n"
     ]
    }
   ],
   "source": [
    "dt = 0.01\n",
    "T = 5\n",
    "N = math.floor(T / dt)\n",
    "\n",
    "model.lowerPositionLimit.fill(-math.pi)\n",
    "model.upperPositionLimit.fill(+math.pi)\n",
    "model.lowerPositionLimit[0] = model.upperPositionLimit[0] = 0.0\n",
    "\n",
    "data_sim = model.createData()\n",
    "\n",
    "# q = pin.randomConfiguration(model)\n",
    "q = np.array(np.array([0.0] + [np.pi] * Nb_pendulums))\n",
    "v = np.zeros(model.nv)\n",
    "\n",
    "def dynamics(x, u):\n",
    "    q, v = x[:model.nq], x[model.nq:]\n",
    "\n",
    "    # apply the ABA algorithm to compute the acceleration\n",
    "    a = pin.aba(model, data_sim, q, v, u)\n",
    "\n",
    "    # integrate the acceleration to get the new state\n",
    "    v += a * dt\n",
    "    q = pin.integrate(model, q, v * dt)\n",
    "\n",
    "    return np.concat((q, v))\n",
    "\n",
    "\n",
    "def compute_jac(x, u):\n",
    "    q, v = x[:model.nq], x[model.nq:]\n",
    "\n",
    "    a = pin.aba(model, data_sim, q, v, u)\n",
    "    new_v = v + a * dt\n",
    "\n",
    "    J1_q, J1_v, J1_u = pin.computeABADerivatives(model, data_sim, q, v, u)\n",
    "    J2_q, J2_v_prim = pin.dIntegrate(model, q, new_v * dt)\n",
    "\n",
    "    dnew_v_dq = J1_q * dt\n",
    "    dnew_v_dv = np.eye(model.nv) + J1_v * dt\n",
    "    dnew_v_du = J1_u * dt\n",
    "\n",
    "    dnew_q_dq = J2_q + J2_v_prim @ dnew_v_dq * dt\n",
    "    dnew_q_dv = J2_v_prim @ dnew_v_dv * dt\n",
    "    dnew_q_du = J2_v_prim @ dnew_v_du * dt\n",
    "\n",
    "    jac_x = np.block([[dnew_q_dq, dnew_q_dv], [dnew_v_dq, dnew_v_dv]])\n",
    "    jac_u = np.vstack((dnew_q_du, dnew_v_du))\n",
    "\n",
    "    return jac_x, jac_u\n",
    "\n",
    "state_dim = model.nq + model.nv\n",
    "control_dim = model.nq\n",
    "\n",
    "Q = np.zeros((state_dim, state_dim)) # state cost\n",
    "Qf = np.diag([1, 1e5, 1e1, 2e-1]) # final state cost\n",
    "R = 1e-5 * np.eye(control_dim) # control cost (minimize the energy)\n",
    "\n",
    "s = ilqr.ILQRSolver(state_dim, control_dim, Q, Qf, R)\n",
    "\n",
    "target = np.zeros(state_dim) # target state, upright pendulum with no velocity\n",
    "output = s.solve(np.concatenate((q, v)), target, dynamics, time_steps=N, jacobians=compute_jac,\n",
    "                 max_iterations=100, initialization=0.01, cost_threshold=0.1, gradient_clip=50.0, full_output=True)\n",
    "\n",
    "print(f\"Solution Kind: {output['kind']}\")\n",
    "print(f\"Time Taken: {output['time_taken']}\")\n",
    "print(f\"Iteration Needed: {output['it_taken']}\")"
   ]
  },
  {
   "cell_type": "code",
   "execution_count": 5,
   "metadata": {},
   "outputs": [
    {
     "data": {
      "image/png": "[encoded data removed]",
      "text/plain": [
       "<Figure size 640x480 with 1 Axes>"
      ]
     },
     "metadata": {},
     "output_type": "display_data"
    }
   ],
   "source": [
    "nb_it = len(output['cost'])\n",
    "\n",
    "plt.semilogy(np.arange(nb_it), output['cost'], label='Cost')\n",
    "plt.semilogy(np.arange(nb_it), output['gradient_norm'], label='Gradient Norm')\n",
    "plt.legend()\n",
    "plt.xlabel(\"Number of iterations\")\n",
    "plt.show()"
   ]
  },
  {
   "cell_type": "code",
   "execution_count": 6,
   "metadata": {},
   "outputs": [],
   "source": [
    "t = 0.0\n",
    "q = np.array(np.array([0.0] + [np.pi] * Nb_pendulums))\n",
    "v = np.zeros(model.nv)\n",
    "\n",
    "viz.display(q)\n",
    "\n",
    "for k in range(N):\n",
    "    tic = time.time()\n",
    "\n",
    "    tau_control = output['control'][k]\n",
    "    x = dynamics(np.concat((q, v)), tau_control)\n",
    "    q, v = x[:model.nq], x[model.nq:]\n",
    "\n",
    "    viz.display(q)\n",
    "\n",
    "    toc = time.time()\n",
    "    elapsed = toc - tic\n",
    "    dt_sleep = max(0, dt - elapsed)\n",
    "\n",
    "    time.sleep(dt_sleep)\n",
    "    t += dt"
   ]
  },
  {
   "cell_type": "code",
   "execution_count": 7,
   "metadata": {},
   "outputs": [
    {
     "name": "stdout",
     "output_type": "stream",
     "text": [
      "Final q: [1.47210642e-02 1.61460053e-07]\n",
      "Target q: [0. 0.]\n",
      "\n",
      "Final v: [-0.00018683 -0.02173338]\n",
      "Target v: [0. 0.]\n",
      "\n",
      "Error: 0.02625\n"
     ]
    }
   ],
   "source": [
    "print(f\"Final q: {q}\")\n",
    "print(f\"Target q: {target[:model.nq]}\")\n",
    "print()\n",
    "print(f\"Final v: {v}\")\n",
    "print(f\"Target v: {target[model.nq:]}\")\n",
    "print()\n",
    "print(f\"Error: {np.linalg.norm(target - x):.5f}\")"
   ]
  },
  {
   "cell_type": "code",
   "execution_count": 8,
   "metadata": {},
   "outputs": [],
   "source": [
    "NB_REP = 10\n",
    "cost_thresh = 0.1\n",
    "gradient_clip = 50\n",
    "max_it = 40\n",
    "init = 0.01\n",
    "\n",
    "q = np.array(np.array([0.0] + [np.pi] * Nb_pendulums))\n",
    "v = np.zeros(model.nv)\n",
    "x0 = np.concatenate((q, v))\n",
    "target = np.zeros(state_dim)"
   ]
  },
  {
   "cell_type": "code",
   "execution_count": 9,
   "metadata": {},
   "outputs": [
    {
     "name": "stdout",
     "output_type": "stream",
     "text": [
      "1/10\n",
      "2/10\n",
      "3/10\n",
      "4/10\n",
      "5/10\n",
      "6/10\n",
      "7/10\n",
      "8/10\n",
      "9/10\n",
      "10/10\n",
      "1/10\n",
      "2/10\n",
      "3/10\n",
      "4/10\n",
      "5/10\n",
      "6/10\n",
      "7/10\n",
      "8/10\n",
      "9/10\n",
      "10/10\n"
     ]
    }
   ],
   "source": [
    "\n",
    "tps_with_jac = []\n",
    "jac_tps_with_jac = []\n",
    "it_with_jac = []\n",
    "while len(tps_with_jac) < NB_REP:\n",
    "    try:\n",
    "        output = s.solve(x0, target, dynamics, time_steps=N, jacobians=compute_jac,\n",
    "                         max_iterations=max_it, initialization=init, cost_threshold=cost_thresh,\n",
    "                         gradient_clip=gradient_clip, full_output=True)\n",
    "\n",
    "        if output['kind'] == 'converged':\n",
    "            tps_with_jac.append(output['time_taken'])\n",
    "            it_with_jac.append(output['it_taken'])\n",
    "            jac_tps_with_jac.extend(output['jac_time_taken'])\n",
    "            print(f\"{len(tps_with_jac)}/{NB_REP}\")\n",
    "    except:\n",
    "        print(\"Retrying...\")\n",
    "tps_with_jac = np.asarray(tps_with_jac)\n",
    "jac_tps_with_jac = np.asarray(jac_tps_with_jac)\n",
    "it_with_jac = np.asarray(it_with_jac)\n",
    "\n",
    "tps_without = []\n",
    "jac_tps_without = []\n",
    "it_without = []\n",
    "while len(tps_without) < NB_REP:\n",
    "    try:\n",
    "        output = s.solve(x0, target, dynamics, time_steps=N,\n",
    "                         max_iterations=max_it, initialization=init, cost_threshold=cost_thresh,\n",
    "                         gradient_clip=gradient_clip, full_output=True)\n",
    "\n",
    "        if output['kind'] == 'converged':\n",
    "            tps_without.append(output['time_taken'])\n",
    "            it_without.append(output['it_taken'])\n",
    "            jac_tps_without.extend(output['jac_time_taken'])\n",
    "            print(f\"{len(tps_without)}/{NB_REP}\")\n",
    "    except:\n",
    "        print(\"Retrying...\")\n",
    "tps_without = np.asarray(tps_without)\n",
    "jac_tps_without = np.asarray(jac_tps_without)\n",
    "it_without = np.asarray(it_without)"
   ]
  },
  {
   "cell_type": "code",
   "execution_count": 11,
   "metadata": {},
   "outputs": [
    {
     "name": "stdout",
     "output_type": "stream",
     "text": [
      "With jacobian callback:\n",
      "Iterations: 21.2 it (std: 7.264 it)\n",
      "Time: 0.3947 sec (std: 0.1351 sec)\n",
      "Jacobian Time: 2.621e-05 sec (std: 1.424e-06 sec)\n",
      "\n",
      "Without callback:\n",
      "Iterations: 21.9 it (std: 3.727 it)\n",
      "Time: 0.5911 sec (std: 0.0973 sec)\n",
      "Jacobian Time: 4.311e-05 sec (std: 4.064e-06 sec)\n"
     ]
    }
   ],
   "source": [
    "print(\"With jacobian callback:\")\n",
    "print(f\"Iterations: {it_with_jac.mean():.4} it (std: {it_with_jac.std():.4} it)\")\n",
    "print(f\"Time: {tps_with_jac.mean():.4} sec (std: {tps_with_jac.std():.4} sec)\")\n",
    "print(f\"Jacobian Time: {jac_tps_with_jac.mean():.4} sec (std: {jac_tps_with_jac.std():.4} sec)\")\n",
    "print()\n",
    "print(\"Without callback:\")\n",
    "print(f\"Iterations: {it_without.mean():.4} it (std: {it_without.std():.4} it)\")\n",
    "print(f\"Time: {tps_without.mean():.4} sec (std: {tps_without.std():.4} sec)\")\n",
    "print(f\"Jacobian Time: {jac_tps_without.mean():.4} sec (std: {jac_tps_without.std():.4} sec)\")"
   ]
  }
 ],
 "metadata": {
  "kernelspec": {
   "display_name": "ilqr_demo",
   "language": "python",
   "name": "python3"
  },
  "language_info": {
   "codemirror_mode": {
    "name": "ipython",
    "version": 3
   },
   "file_extension": ".py",
   "mimetype": "text/x-python",
   "name": "python",
   "nbconvert_exporter": "python",
   "pygments_lexer": "ipython3",
   "version": "3.10.16"
  }
 },
 "nbformat": 4,
 "nbformat_minor": 2
}
