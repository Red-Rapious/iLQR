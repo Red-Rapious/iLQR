{
 "cells": [
  {
   "cell_type": "code",
   "execution_count": 21,
   "metadata": {},
   "outputs": [],
   "source": [
    "import math\n",
    "import time\n",
    "import numpy as np\n",
    "import pinocchio as pin\n",
    "import example_robot_data as robex\n",
    "from pinocchio.visualize import MeshcatVisualizer as Visualizer\n",
    "import ilqr\n",
    "import sys"
   ]
  },
  {
   "cell_type": "code",
   "execution_count": 2,
   "metadata": {},
   "outputs": [],
   "source": [
    "robot = robex.load('ur5')"
   ]
  },
  {
   "cell_type": "code",
   "execution_count": 3,
   "metadata": {},
   "outputs": [
    {
     "name": "stdout",
     "output_type": "stream",
     "text": [
      "You can open the visualizer by visiting the following URL:\n",
      "http://127.0.0.1:7035/static/\n"
     ]
    }
   ],
   "source": [
    "# Initialize the viewer.\n",
    "try:\n",
    "    viz = Visualizer(robot.model, robot.collision_model, robot.visual_model)\n",
    "    viz.initViewer(loadModel=True)\n",
    "except ImportError as err:\n",
    "    print(\n",
    "        \"Error while initializing the viewer. \"\n",
    "        \"It seems you should install gepetto-viewer\"\n",
    "    )\n",
    "    print(err)\n",
    "    sys.exit(0)\n",
    "\n",
    "try:\n",
    "    viz.loadViewerModel(\"pinocchio\")\n",
    "except AttributeError as err:\n",
    "    print(\n",
    "        \"Error while loading the viewer model. \"\n",
    "        \"It seems you should start gepetto-viewer\"\n",
    "    )\n",
    "    print(err)\n",
    "    sys.exit(0)"
   ]
  },
  {
   "cell_type": "code",
   "execution_count": 27,
   "metadata": {},
   "outputs": [],
   "source": [
    "q0 = np.random.rand(robot.model.nq) * 2 * np.pi - np.pi\n",
    "viz.display(q0)\n",
    "robot.model.gravity = pin.Motion.Zero() # disable gravity"
   ]
  },
  {
   "cell_type": "code",
   "execution_count": 43,
   "metadata": {},
   "outputs": [],
   "source": [
    "dt = 0.01\n",
    "T = 5\n",
    "N = math.floor(T / dt)\n",
    "\n",
    "state_dim = robot.model.nq + robot.model.nv\n",
    "control_dim = robot.model.nq\n",
    "\n",
    "Q = np.zeros((state_dim, state_dim))  # state cost\n",
    "Qf = np.eye(state_dim)  # final state cost\n",
    "R = 1e-3 * np.eye(control_dim)  # control cost (minimize the energy)\n",
    "\n",
    "s = ilqr.ILQRSolver(state_dim, control_dim, Q, Qf, R)\n",
    "def dynamics(x, u):\n",
    "    q, v = x[:robot.model.nq], x[robot.model.nq:]\n",
    "\n",
    "    # apply the ABA algorithm to compute the acceleration\n",
    "    a = pin.aba(robot.model, robot.data, q, v, u)\n",
    "\n",
    "    # integrate the acceleration to get the new state\n",
    "    v += a * dt\n",
    "    q = pin.integrate(robot.model, q, v * dt)\n",
    "\n",
    "    return np.concat((q, v))\n",
    "\n",
    "\n",
    "# target = np.concatenate((robot.q0, np.zeros(robot.model.nv)))   # stay where you are\n",
    "target_q = np.random.rand(robot.model.nq) * 2 * np.pi - np.pi # random position\n",
    "target = np.concatenate((target_q, np.zeros(robot.model.nv)))\n",
    "controls = s.solve(np.concatenate((q0, np.zeros(robot.nv))), target, dynamics, time_steps=N, max_iterations=10, gradient_clip=10)"
   ]
  },
  {
   "cell_type": "code",
   "execution_count": 44,
   "metadata": {},
   "outputs": [],
   "source": [
    "viz.display(q0)"
   ]
  },
  {
   "cell_type": "code",
   "execution_count": 45,
   "metadata": {},
   "outputs": [],
   "source": [
    "q, v = q0, np.zeros(robot.model.nv)\n",
    "\n",
    "t = 0.0\n",
    "for k in range(N):\n",
    "    tic = time.time()\n",
    "\n",
    "    tau_control = controls[k]\n",
    "    x = dynamics(np.concat((q, v)), tau_control)\n",
    "    q, v = x[:robot.model.nq], x[robot.model.nq:]\n",
    "\n",
    "    viz.display(q)\n",
    "\n",
    "    toc = time.time()\n",
    "    ellapsed = toc - tic\n",
    "    dt_sleep = max(0, dt - (ellapsed))\n",
    "\n",
    "    time.sleep(dt_sleep)\n",
    "    t += dt"
   ]
  }
 ],
 "metadata": {
  "kernelspec": {
   "display_name": "ilqr_demo",
   "language": "python",
   "name": "python3"
  },
  "language_info": {
   "codemirror_mode": {
    "name": "ipython",
    "version": 3
   },
   "file_extension": ".py",
   "mimetype": "text/x-python",
   "name": "python",
   "nbconvert_exporter": "python",
   "pygments_lexer": "ipython3",
   "version": "3.10.16"
  }
 },
 "nbformat": 4,
 "nbformat_minor": 2
}
