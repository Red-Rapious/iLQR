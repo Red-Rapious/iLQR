{
 "cells": [
  {
   "cell_type": "markdown",
   "metadata": {},
   "source": [
    "# Inverted Pendulum\n",
    "This code is based on [the inverted pendulum example](https://github.com/stack-of-tasks/pinocchio/blob/master/examples/simulation-inverted-pendulum.py) provided by the [Pinocchio](https://stack-of-tasks.github.io/pinocchio/) library. The goal is to balance a pendulum in the upright position by applying a torque to the joint.\n",
    "\n",
    "The state of the system $x=[\\theta\\:\\:\\:\\dot{\\theta}]$ is described by the angle of the pendulum $\\theta$ and its angular velocity $\\dot{\\theta}$. The control input $u$ is the torque applied to the joint."
   ]
  },
  {
   "cell_type": "code",
   "execution_count": 1,
   "metadata": {},
   "outputs": [],
   "source": [
    "import math\n",
    "import sys\n",
    "import time\n",
    "from matplotlib import pyplot as plt\n",
    "\n",
    "import hppfcl as fcl\n",
    "import numpy as np\n",
    "import pinocchio as pin\n",
    "from pinocchio.visualize import MeshcatVisualizer\n",
    "\n",
    "import meshcat\n",
    "\n",
    "import ilqr"
   ]
  },
  {
   "cell_type": "code",
   "execution_count": 2,
   "metadata": {},
   "outputs": [
    {
     "name": "stderr",
     "output_type": "stream",
     "text": [
      "/tmp/ipykernel_21591/2926480844.py:11: UserWarning: This function has been marked as deprecated and will be removed in a future release.\n",
      "  geom0_obj = pin.GeometryObject(\"base\", 0, shape0, pin.SE3.Identity())\n"
     ]
    },
    {
     "data": {
      "text/plain": [
       "0"
      ]
     },
     "execution_count": 2,
     "metadata": {},
     "output_type": "execute_result"
    }
   ],
   "source": [
    "Nb_pendulum = 1  # number of pendulums\n",
    "model = pin.Model()\n",
    "geom_model = pin.GeometryModel()\n",
    "\n",
    "parent_id = 0\n",
    "joint_placement = pin.SE3.Identity()\n",
    "body_mass = 1.0\n",
    "body_radius = 0.1\n",
    "\n",
    "shape0 = fcl.Sphere(body_radius)\n",
    "geom0_obj = pin.GeometryObject(\"base\", 0, shape0, pin.SE3.Identity())\n",
    "geom0_obj.meshColor = np.array([1.0, 0.1, 0.1, 1.0])\n",
    "geom_model.addGeometryObject(geom0_obj)"
   ]
  },
  {
   "cell_type": "code",
   "execution_count": 3,
   "metadata": {},
   "outputs": [
    {
     "name": "stderr",
     "output_type": "stream",
     "text": [
      "/tmp/ipykernel_21591/569758454.py:14: UserWarning: This function has been marked as deprecated and will be removed in a future release.\n",
      "  geom1_obj = pin.GeometryObject(geom1_name, joint_id, shape1, body_placement)\n",
      "/tmp/ipykernel_21591/569758454.py:23: UserWarning: This function has been marked as deprecated and will be removed in a future release.\n",
      "  geom2_obj = pin.GeometryObject(geom2_name, joint_id, shape2, shape2_placement)\n"
     ]
    }
   ],
   "source": [
    "for k in range(Nb_pendulum):\n",
    "    joint_name = \"joint_\" + str(k + 1)\n",
    "    joint_id = model.addJoint(\n",
    "        parent_id, pin.JointModelRY(), joint_placement, joint_name\n",
    "    )\n",
    "\n",
    "    body_inertia = pin.Inertia.FromSphere(body_mass, body_radius)\n",
    "    body_placement = joint_placement.copy()\n",
    "    body_placement.translation[2] = 1.0\n",
    "    model.appendBodyToJoint(joint_id, body_inertia, body_placement)\n",
    "\n",
    "    geom1_name = \"ball_\" + str(k + 1)\n",
    "    shape1 = fcl.Sphere(body_radius)\n",
    "    geom1_obj = pin.GeometryObject(geom1_name, joint_id, shape1, body_placement)\n",
    "    geom1_obj.meshColor = np.ones(4)\n",
    "    geom_model.addGeometryObject(geom1_obj)\n",
    "\n",
    "    geom2_name = \"bar_\" + str(k + 1)\n",
    "    shape2 = fcl.Cylinder(body_radius / 4.0, body_placement.translation[2])\n",
    "    shape2_placement = body_placement.copy()\n",
    "    shape2_placement.translation[2] /= 2.0\n",
    "\n",
    "    geom2_obj = pin.GeometryObject(geom2_name, joint_id, shape2, shape2_placement)\n",
    "    geom2_obj.meshColor = np.array([0.0, 0.0, 0.0, 1.0])\n",
    "    geom_model.addGeometryObject(geom2_obj)\n",
    "\n",
    "    parent_id = joint_id\n",
    "    joint_placement = body_placement.copy()\n",
    "\n",
    "\n",
    "visual_model = geom_model\n",
    "viz = MeshcatVisualizer(model, geom_model, visual_model)"
   ]
  },
  {
   "cell_type": "code",
   "execution_count": 4,
   "metadata": {},
   "outputs": [
    {
     "name": "stdout",
     "output_type": "stream",
     "text": [
      "You can open the visualizer by visiting the following URL:\n",
      "http://127.0.0.1:7001/static/\n"
     ]
    }
   ],
   "source": [
    "visual_model = geom_model\n",
    "viz = MeshcatVisualizer(model, geom_model, visual_model)\n",
    "\n",
    "# Initialize the viewer.\n",
    "try:\n",
    "    viz.initViewer(loadModel=True, viewer=meshcat.Visualizer())\n",
    "except ImportError as err:\n",
    "    print(\n",
    "        \"Error while initializing the viewer. \"\n",
    "        \"It seems you should install gepetto-viewer\"\n",
    "    )\n",
    "    print(err)\n",
    "    sys.exit(0)\n",
    "\n",
    "try:\n",
    "    viz.loadViewerModel(\"pinocchio\")\n",
    "except AttributeError as err:\n",
    "    print(\n",
    "        \"Error while loading the viewer model. \"\n",
    "        \"It seems you should start gepetto-viewer\"\n",
    "    )\n",
    "    print(err)\n",
    "    sys.exit(0)\n",
    "\n",
    "q = pin.neutral(model)\n",
    "viz.display(q)"
   ]
  },
  {
   "cell_type": "code",
   "execution_count": 5,
   "metadata": {},
   "outputs": [],
   "source": [
    "# initial state\n",
    "q0 = np.array([np.pi] * model.nq)\n",
    "v0 = np.zeros(model.nv)\n",
    "viz.display(q)"
   ]
  },
  {
   "cell_type": "code",
   "execution_count": 23,
   "metadata": {},
   "outputs": [
    {
     "name": "stdout",
     "output_type": "stream",
     "text": [
      "Solution Kind: converged\n",
      "Time Taken: 0.920643394\n",
      "Iteration Needed: 38\n"
     ]
    }
   ],
   "source": [
    "dt = 0.01\n",
    "T = 5\n",
    "N = math.floor(T / dt)\n",
    "\n",
    "model.lowerPositionLimit.fill(-math.pi)\n",
    "model.upperPositionLimit.fill(+math.pi)\n",
    "\n",
    "data_sim = model.createData()\n",
    "\n",
    "# we define a dynamics function to pass the solver\n",
    "def dynamics(x, u):\n",
    "    q, v = x[:model.nq], x[model.nq:]\n",
    "\n",
    "    # apply the ABA algorithm to compute the acceleration\n",
    "    a = pin.aba(model, data_sim, q, v, u)\n",
    "\n",
    "    # integrate the acceleration to get the new state\n",
    "    v += a * dt\n",
    "    q = pin.integrate(model, q, v * dt)\n",
    "\n",
    "    return np.concat((q, v))\n",
    "\n",
    "\n",
    "def compute_jac(x, u):\n",
    "    q, v = x[:model.nq], x[model.nq:]\n",
    "\n",
    "    a = pin.aba(model, data_sim, q, v, u)\n",
    "    new_v = v + a * dt\n",
    "\n",
    "    J1_q, J1_v, J1_u = pin.computeABADerivatives(model, data_sim, q, v, u)\n",
    "    J2_q, J2_v_prim = pin.dIntegrate(model, q, new_v * dt)\n",
    "\n",
    "    dnew_v_dq = J1_q * dt\n",
    "    dnew_v_dv = np.eye(model.nv) + J1_v * dt\n",
    "    dnew_v_du = J1_u * dt\n",
    "\n",
    "    dnew_q_dq = J2_q + J2_v_prim @ dnew_v_dq * dt\n",
    "    dnew_q_dv = J2_v_prim @ dnew_v_dv * dt\n",
    "    dnew_q_du = J2_v_prim @ dnew_v_du * dt\n",
    "\n",
    "    jac_x = np.block([[dnew_q_dq, dnew_q_dv], [dnew_v_dq, dnew_v_dv]])\n",
    "    jac_u = np.vstack((dnew_q_du, dnew_v_du))\n",
    "\n",
    "    return jac_x, jac_u\n",
    "\n",
    "state_dim = model.nq + model.nv\n",
    "control_dim = model.nq\n",
    "\n",
    "Q = np.zeros((state_dim, state_dim)) # state cost\n",
    "Qf = np.eye(state_dim) # final state cost\n",
    "R = np.zeros((control_dim, control_dim)) # control cost\n",
    "if Nb_pendulum == 1:\n",
    "    R = 1e-5 * np.eye(control_dim) # control cost (minimize the energy)\n",
    "elif Nb_pendulum == 2:\n",
    "    R = 1e-5 * np.eye(control_dim)\n",
    "else:\n",
    "    # avoid divergence\n",
    "    Qf = 10 * Qf\n",
    "    R = 1e-3 * np.eye(control_dim)\n",
    "\n",
    "s = ilqr.ILQRSolver(state_dim, control_dim, Q, Qf, R)\n",
    "\n",
    "target = np.zeros(state_dim) # target state, upright pendulum with no velocity\n",
    "output = s.solve(np.concatenate((q0, v0)), target, dynamics, time_steps=N, jacobians=compute_jac,\n",
    "                  gradient_clip=10.0, max_iterations=100, initialization=0.5, gradient_threshold=0.01, full_output=True)\n",
    "\n",
    "print(f\"Solution Kind: {output['kind']}\")\n",
    "print(f\"Time Taken: {output['time_taken']}\")\n",
    "print(f\"Iteration Needed: {output['it_taken']}\")"
   ]
  },
  {
   "cell_type": "code",
   "execution_count": 24,
   "metadata": {},
   "outputs": [
    {
     "data": {
      "image/png": "[encoded data removed]",
      "text/plain": [
       "<Figure size 640x480 with 1 Axes>"
      ]
     },
     "metadata": {},
     "output_type": "display_data"
    }
   ],
   "source": [
    "nb_it = len(output['cost'])\n",
    "\n",
    "plt.semilogy(np.arange(nb_it), output['cost'], label='Cost')\n",
    "plt.semilogy(np.arange(nb_it), output['gradient_norm'], label='Gradient Norm')\n",
    "plt.legend()\n",
    "plt.xlabel(\"Number of iterations\")\n",
    "plt.show()"
   ]
  },
  {
   "cell_type": "code",
   "execution_count": 25,
   "metadata": {},
   "outputs": [],
   "source": [
    "t = 0.0\n",
    "\n",
    "q = q0\n",
    "v = v0\n",
    "\n",
    "viz.display(q0)\n",
    "\n",
    "for k in range(N):\n",
    "    tic = time.time()\n",
    "\n",
    "    tau_control = output['control'][k]\n",
    "    x = dynamics(np.concat((q, v)), tau_control)\n",
    "    q, v = x[:model.nq], x[model.nq:]\n",
    "\n",
    "    viz.display(q)\n",
    "\n",
    "    toc = time.time()\n",
    "    elapsed = toc - tic\n",
    "    dt_sleep = max(0, dt - elapsed)\n",
    "\n",
    "    time.sleep(dt_sleep)\n",
    "    t += dt"
   ]
  },
  {
   "cell_type": "code",
   "execution_count": 26,
   "metadata": {},
   "outputs": [
    {
     "name": "stdout",
     "output_type": "stream",
     "text": [
      "Final q: [0.00644704]\n",
      "Target q: [0.]\n",
      "\n",
      "Final v: [-0.00196404]\n",
      "Target v: [0.]\n",
      "\n",
      "Error: 0.00674\n"
     ]
    }
   ],
   "source": [
    "print(f\"Final q: {q}\")\n",
    "print(f\"Target q: {target[:model.nq]}\")\n",
    "print()\n",
    "print(f\"Final v: {v}\")\n",
    "print(f\"Target v: {target[model.nq:]}\")\n",
    "print()\n",
    "print(f\"Error: {np.linalg.norm(target - x):.5f}\")"
   ]
  }
 ],
 "metadata": {
  "kernelspec": {
   "display_name": "ilqr_demo",
   "language": "python",
   "name": "python3"
  },
  "language_info": {
   "codemirror_mode": {
    "name": "ipython",
    "version": 3
   },
   "file_extension": ".py",
   "mimetype": "text/x-python",
   "name": "python",
   "nbconvert_exporter": "python",
   "pygments_lexer": "ipython3",
   "version": "3.10.16"
  }
 },
 "nbformat": 4,
 "nbformat_minor": 2
}
