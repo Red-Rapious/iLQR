{
 "cells": [
  {
   "cell_type": "markdown",
   "metadata": {},
   "source": [
    "A simple file to do some debugging on the Python/Rust interface."
   ]
  },
  {
   "cell_type": "code",
   "execution_count": 1,
   "metadata": {},
   "outputs": [],
   "source": [
    "import ilqr\n",
    "import numpy as np"
   ]
  },
  {
   "cell_type": "code",
   "execution_count": 6,
   "metadata": {},
   "outputs": [
    {
     "name": "stdout",
     "output_type": "stream",
     "text": [
      "ILQRSolver { state_dim: 2, control_dim: 1, Q: VecStorage { data: [0.0, 0.0, 0.0, 0.0], nrows: Dyn(2), ncols: Dyn(2) }, Qf: VecStorage { data: [1.0, 0.0, 0.0, 1.0], nrows: Dyn(2), ncols: Dyn(2) }, R: VecStorage { data: [1e-5], nrows: Dyn(1), ncols: Dyn(1) } }\n"
     ]
    }
   ],
   "source": [
    "Q = np.array([[0, 0], [0, 0]])\n",
    "Qf = np.array([[1, 0], [0, 1]])\n",
    "R = np.array([[1e-5]])\n",
    "s = ilqr.ILQRSolver(2, 1, Q, Qf, R)\n",
    "print(s)"
   ]
  },
  {
   "cell_type": "code",
   "execution_count": 7,
   "metadata": {},
   "outputs": [
    {
     "data": {
      "text/plain": [
       "array([[0.],\n",
       "       [0.],\n",
       "       [0.],\n",
       "       [0.],\n",
       "       [0.],\n",
       "       [0.],\n",
       "       [0.],\n",
       "       [0.],\n",
       "       [0.],\n",
       "       [0.]])"
      ]
     },
     "execution_count": 7,
     "metadata": {},
     "output_type": "execute_result"
    }
   ],
   "source": [
    "s.solve(np.zeros(2), np.ones(2), lambda x, u: x, time_steps=10)"
   ]
  }
 ],
 "metadata": {
  "kernelspec": {
   "display_name": "ilqr_demo",
   "language": "python",
   "name": "python3"
  },
  "language_info": {
   "codemirror_mode": {
    "name": "ipython",
    "version": 3
   },
   "file_extension": ".py",
   "mimetype": "text/x-python",
   "name": "python",
   "nbconvert_exporter": "python",
   "pygments_lexer": "ipython3",
   "version": "3.10.16"
  }
 },
 "nbformat": 4,
 "nbformat_minor": 2
}
