{
 "cells": [
  {
   "cell_type": "markdown",
   "metadata": {},
   "source": [
    "# Cartpole\n",
    "This code is based on [the cartpole example](https://github.com/stack-of-tasks/pinocchio/blob/master/examples/simulation-pendulum.py) provided by the [Pinocchio](https://stack-of-tasks.github.io/pinocchio/) library. The goal is to balance a pendulum in the upright position by moving the cart below.\n",
    "\n",
    "The state of the system $x=[y\\:\\:\\:\\theta\\:\\:\\:\\dot{y}\\:\\:\\:\\dot{\\theta}]$ is by the position of the cart $y$, the angle of the pendulum $\\theta$, and their temporal derivatives. The control input $u$ is the force applied to the cart."
   ]
  },
  {
   "cell_type": "code",
   "execution_count": 1,
   "metadata": {},
   "outputs": [],
   "source": [
    "import math\n",
    "import sys\n",
    "import time\n",
    "from matplotlib import pyplot as plt\n",
    "\n",
    "import hppfcl as fcl\n",
    "import numpy as np\n",
    "import pinocchio as pin\n",
    "from pinocchio.visualize import MeshcatVisualizer as Visualizer\n",
    "import ilqr"
   ]
  },
  {
   "cell_type": "code",
   "execution_count": 2,
   "metadata": {},
   "outputs": [],
   "source": [
    "Nb_pendulums = 1  # number of pendulums\n",
    "\n",
    "model = pin.Model()\n",
    "geom_model = pin.GeometryModel()\n",
    "\n",
    "parent_id = 0\n",
    "\n",
    "cart_radius = 0.1\n",
    "cart_length = 5 * cart_radius\n",
    "cart_mass = 2.0\n",
    "joint_name = \"joint_cart\"\n",
    "\n",
    "geometry_placement = pin.SE3.Identity()\n",
    "geometry_placement.rotation = pin.Quaternion(\n",
    "    np.array([0.0, 0.0, 1.0]), np.array([0.0, 1.0, 0.0])\n",
    ").toRotationMatrix()\n",
    "\n",
    "joint_id = model.addJoint(\n",
    "    parent_id, pin.JointModelPY(), pin.SE3.Identity(), joint_name\n",
    ")\n",
    "\n",
    "body_inertia = pin.Inertia.FromCylinder(cart_mass, cart_radius, cart_length)\n",
    "body_placement = geometry_placement\n",
    "# We need to rotate the inertia as it is expressed in the LOCAL frame of the\n",
    "# geometry.\n",
    "model.appendBodyToJoint(joint_id, body_inertia, body_placement)\n",
    "\n",
    "shape_cart = fcl.Cylinder(cart_radius, cart_length)\n",
    "\n",
    "geom_cart = pin.GeometryObject(\n",
    "    \"shape_cart\", joint_id, geometry_placement, shape_cart\n",
    ")\n",
    "geom_cart.meshColor = np.array([1.0, 0.1, 0.1, 1.0])\n",
    "geom_model.addGeometryObject(geom_cart)\n",
    "\n",
    "parent_id = joint_id\n",
    "\n",
    "joint_placement = pin.SE3.Identity()\n",
    "body_mass = 1.0\n",
    "body_radius = 0.1\n",
    "\n",
    "for k in range(Nb_pendulums):\n",
    "    joint_name = \"joint_\" + str(k + 1)\n",
    "    joint_id = model.addJoint(\n",
    "        parent_id, pin.JointModelRX(), joint_placement, joint_name\n",
    "    )\n",
    "\n",
    "    body_inertia = pin.Inertia.FromSphere(body_mass, body_radius)\n",
    "    body_placement = joint_placement.copy()\n",
    "    body_placement.translation[2] = 1.0\n",
    "    model.appendBodyToJoint(joint_id, body_inertia, body_placement)\n",
    "\n",
    "    geom1_name = \"ball_\" + str(k + 1)\n",
    "    shape1 = fcl.Sphere(body_radius)\n",
    "    geom1_obj = pin.GeometryObject(geom1_name, joint_id, body_placement, shape1)\n",
    "    geom1_obj.meshColor = np.ones(4)\n",
    "    geom_model.addGeometryObject(geom1_obj)\n",
    "\n",
    "    geom2_name = \"bar_\" + str(k + 1)\n",
    "    shape2 = fcl.Cylinder(body_radius / 4.0, body_placement.translation[2])\n",
    "    shape2_placement = body_placement.copy()\n",
    "    shape2_placement.translation[2] /= 2.0\n",
    "\n",
    "    geom2_obj = pin.GeometryObject(geom2_name, joint_id, shape2_placement, shape2)\n",
    "    geom2_obj.meshColor = np.array([0.0, 0.0, 0.0, 1.0])\n",
    "    geom_model.addGeometryObject(geom2_obj)\n",
    "\n",
    "    parent_id = joint_id\n",
    "    joint_placement = body_placement.copy()"
   ]
  },
  {
   "cell_type": "code",
   "execution_count": 3,
   "metadata": {},
   "outputs": [
    {
     "name": "stdout",
     "output_type": "stream",
     "text": [
      "You can open the visualizer by visiting the following URL:\n",
      "http://127.0.0.1:7000/static/\n"
     ]
    }
   ],
   "source": [
    "visual_model = geom_model\n",
    "# Initialize the viewer.\n",
    "try:\n",
    "    viz = Visualizer(model, geom_model, visual_model)\n",
    "    viz.initViewer()\n",
    "except ImportError as err:\n",
    "    print(\n",
    "        \"Error while initializing the viewer. \"\n",
    "        \"It seems you should install gepetto-viewer\"\n",
    "    )\n",
    "    print(err)\n",
    "    sys.exit(0)\n",
    "\n",
    "try:\n",
    "    viz.loadViewerModel(\"pinocchio\")\n",
    "except AttributeError as err:\n",
    "    print(\n",
    "        \"Error while loading the viewer model. \"\n",
    "        \"It seems you should start gepetto-viewer\"\n",
    "    )\n",
    "    print(err)\n",
    "    sys.exit(0)\n",
    "\n",
    "# Display a robot configuration.\n",
    "q0 = pin.neutral(model)\n",
    "viz.display(q0)"
   ]
  },
  {
   "cell_type": "code",
   "execution_count": 4,
   "metadata": {},
   "outputs": [
    {
     "name": "stdout",
     "output_type": "stream",
     "text": [
      "Solution Kind: converged\n",
      "Time Taken: 0.552789525\n",
      "Iteration Needed: 13\n"
     ]
    }
   ],
   "source": [
    "dt = 0.01\n",
    "T = 5\n",
    "N = math.floor(T / dt)\n",
    "\n",
    "model.lowerPositionLimit.fill(-math.pi)\n",
    "model.upperPositionLimit.fill(+math.pi)\n",
    "model.lowerPositionLimit[0] = model.upperPositionLimit[0] = 0.0\n",
    "\n",
    "data_sim = model.createData()\n",
    "\n",
    "# q = pin.randomConfiguration(model)\n",
    "q = np.array(np.array([0.0] + [np.pi] * Nb_pendulums))\n",
    "v = np.zeros(model.nv)\n",
    "\n",
    "def dynamics(x, u):\n",
    "    q, v = x[:model.nq], x[model.nq:]\n",
    "\n",
    "    # apply the ABA algorithm to compute the acceleration\n",
    "    a = pin.aba(model, data_sim, q, v, u)\n",
    "\n",
    "    # integrate the acceleration to get the new state\n",
    "    v += a * dt\n",
    "    q = pin.integrate(model, q, v * dt)\n",
    "\n",
    "    return np.concat((q, v))\n",
    "\n",
    "# def jacobians(x, u):\n",
    "    # q, v = x[:model.nq], x[model.nq:]\n",
    "    # return (None, None)\n",
    "\n",
    "state_dim = model.nq + model.nv\n",
    "control_dim = model.nq\n",
    "\n",
    "Q = np.zeros((state_dim, state_dim)) # state cost\n",
    "Qf = np.diag([1, 1e5, 1e1, 2e-1]) # final state cost\n",
    "R = 1e-5 * np.eye(control_dim) # control cost (minimize the energy)\n",
    "\n",
    "s = ilqr.ILQRSolver(state_dim, control_dim, Q, Qf, R)\n",
    "\n",
    "target = np.zeros(state_dim) # target state, upright pendulum with no velocity\n",
    "output = s.solve(np.concatenate((q, v)), target, dynamics, time_steps=N,\n",
    "                 max_iterations=100, initialization=0.5, cost_threshold=1, gradient_clip=100.0, full_output=True)\n",
    "\n",
    "print(f\"Solution Kind: {output['kind']}\")\n",
    "print(f\"Time Taken: {output['time_taken']}\")\n",
    "print(f\"Iteration Needed: {output['it_taken']}\")"
   ]
  },
  {
   "cell_type": "code",
   "execution_count": 5,
   "metadata": {},
   "outputs": [
    {
     "data": {
      "image/png": "[encoded data removed]",
      "text/plain": [
       "<Figure size 640x480 with 1 Axes>"
      ]
     },
     "metadata": {},
     "output_type": "display_data"
    }
   ],
   "source": [
    "nb_it = len(output['cost'])\n",
    "\n",
    "plt.semilogy(np.arange(nb_it), output['cost'], label='Cost')\n",
    "plt.semilogy(np.arange(nb_it), output['gradient_norm'], label='Gradient Norm')\n",
    "plt.legend()\n",
    "plt.xlabel(\"Number of iterations\")\n",
    "plt.show()"
   ]
  },
  {
   "cell_type": "code",
   "execution_count": 6,
   "metadata": {},
   "outputs": [],
   "source": [
    "t = 0.0\n",
    "q = np.array(np.array([0.0] + [np.pi] * Nb_pendulums))\n",
    "v = np.zeros(model.nv)\n",
    "\n",
    "viz.display(q)\n",
    "\n",
    "for k in range(N):\n",
    "    tic = time.time()\n",
    "\n",
    "    tau_control = output['control'][k]\n",
    "    x = dynamics(np.concat((q, v)), tau_control)\n",
    "    q, v = x[:model.nq], x[model.nq:]\n",
    "\n",
    "    viz.display(q)\n",
    "\n",
    "    toc = time.time()\n",
    "    elapsed = toc - tic\n",
    "    dt_sleep = max(0, dt - elapsed)\n",
    "\n",
    "    time.sleep(dt_sleep)\n",
    "    t += dt"
   ]
  },
  {
   "cell_type": "code",
   "execution_count": 7,
   "metadata": {},
   "outputs": [
    {
     "name": "stdout",
     "output_type": "stream",
     "text": [
      "Final q: [-4.38356313e-04  3.48318241e-09]\n",
      "Target q: [0. 0.]\n",
      "\n",
      "Final v: [-1.87381928e-05  1.68105173e-04]\n",
      "Target v: [0. 0.]\n",
      "\n",
      "Error: 0.00047\n"
     ]
    }
   ],
   "source": [
    "print(f\"Final q: {q}\")\n",
    "print(f\"Target q: {target[:model.nq]}\")\n",
    "print()\n",
    "print(f\"Final v: {v}\")\n",
    "print(f\"Target v: {target[model.nq:]}\")\n",
    "print()\n",
    "print(f\"Error: {np.linalg.norm(target - x):.5f}\")"
   ]
  },
  {
   "cell_type": "code",
   "execution_count": 12,
   "metadata": {},
   "outputs": [
    {
     "data": {
      "text/plain": [
       "(array([-4.38356313e-04,  3.48318241e-09]),\n",
       " array([-1.87381928e-05,  1.68105173e-04]),\n",
       " array([0.07754926, 0.04058932]))"
      ]
     },
     "execution_count": 12,
     "metadata": {},
     "output_type": "execute_result"
    }
   ],
   "source": [
    "u = tau_control\n",
    "q, v, u"
   ]
  },
  {
   "cell_type": "code",
   "execution_count": 18,
   "metadata": {},
   "outputs": [
    {
     "data": {
      "text/plain": [
       "(array([[-0.        ,  4.87574551],\n",
       "        [-0.        , 14.62723657]]),\n",
       " array([[-0.00000000e+00, -5.84376883e-13],\n",
       "        [-0.00000000e+00, -5.82048689e-13]]),\n",
       " array([[0.49900596, 0.49701789],\n",
       "        [0.49701789, 1.49105368]]))"
      ]
     },
     "execution_count": 18,
     "metadata": {},
     "output_type": "execute_result"
    }
   ],
   "source": [
    "\"\"\"model: model of the kinematic tree\n",
    "\n",
    "\n",
    "computeABADerivatives( (Model)model, (Data)data, (numpy.ndarray)q, (numpy.ndarray)v, (numpy.ndarray)tau) -> tuple :\n",
    "    Computes the ABA derivatives, store the result in data.ddq_dq, data.ddq_dv and data.Minv (aka ddq_dtau) which correspond to the partial derivatives of the joint acceleration vector output with respect to the joint configuration, velocity and torque vectors.\n",
    "\n",
    "    Parameters:\n",
    "            model: model of the kinematic tree\n",
    "            data: data related to the model\n",
    "            q: the joint configuration vector (size model.nq)\n",
    "            v: the joint velocity vector (size model.nv)\n",
    "            tau: the joint torque vector (size model.nv)\n",
    "\n",
    "    Returns: (ddq_dq, ddq_dv, ddq_da)\n",
    "\"\"\"\n",
    "\n",
    "ddq_dq, ddq_dv, ddq_dtau = pin.computeABADerivatives(model, data_sim, q, v, u)\n",
    "ddq_dq, ddq_dv, ddq_dtau"
   ]
  },
  {
   "cell_type": "code",
   "execution_count": 23,
   "metadata": {},
   "outputs": [
    {
     "data": {
      "text/plain": [
       "(array([[-0.        ,  4.87574551],\n",
       "        [-0.        , 14.62723657]]),\n",
       " array([[-0.00000000e+00, -5.84376883e-13],\n",
       "        [-0.00000000e+00, -5.82048689e-13]]),\n",
       " array([[0.49900596, 0.49701789],\n",
       "        [0.49701789, 1.49105368]]))"
      ]
     },
     "execution_count": 23,
     "metadata": {},
     "output_type": "execute_result"
    }
   ],
   "source": [
    "data_sim.ddq_dq, data_sim.ddq_dv, data_sim.Minv,"
   ]
  }
 ],
 "metadata": {
  "kernelspec": {
   "display_name": "ilqr_demo",
   "language": "python",
   "name": "python3"
  },
  "language_info": {
   "codemirror_mode": {
    "name": "ipython",
    "version": 3
   },
   "file_extension": ".py",
   "mimetype": "text/x-python",
   "name": "python",
   "nbconvert_exporter": "python",
   "pygments_lexer": "ipython3",
   "version": "3.10.16"
  }
 },
 "nbformat": 4,
 "nbformat_minor": 2
}
