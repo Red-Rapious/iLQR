{
 "cells": [
  {
   "cell_type": "markdown",
   "metadata": {},
   "source": [
    "A simple file to do some debugging on the Python/Rust interface."
   ]
  },
  {
   "cell_type": "code",
   "execution_count": 1,
   "metadata": {},
   "outputs": [],
   "source": [
    "import ilqr"
   ]
  },
  {
   "cell_type": "code",
   "execution_count": 4,
   "metadata": {},
   "outputs": [
    {
     "name": "stdout",
     "output_type": "stream",
     "text": [
      "ILQRSolver { state_dim: 2, control_dim: 1, Q: VecStorage { data: [0.0, 0.0, 0.0, 0.0], nrows: Dyn(2), ncols: Dyn(2) }, Qf: VecStorage { data: [0.0, 0.0, 0.0, 0.0], nrows: Dyn(2), ncols: Dyn(2) }, R: VecStorage { data: [0.0], nrows: Dyn(1), ncols: Dyn(1) } }\n"
     ]
    }
   ],
   "source": [
    "Q = [[0, 0], [0, 0]]\n",
    "Qf = [[0, 0], [0, 0]]\n",
    "R = [[0]]\n",
    "s = ilqr.ILQRSolver(2, 1, Q, Qf, R)\n",
    "print(s)"
   ]
  },
  {
   "cell_type": "code",
   "execution_count": 6,
   "metadata": {},
   "outputs": [
    {
     "name": "stderr",
     "output_type": "stream",
     "text": [
      "thread '<unnamed>' panicked at /Users/antoinegroudiev/.cargo/registry/src/index.crates.io-6f17d22bba15001f/nalgebra-0.33.2/src/base/blas.rs:32:9:\n",
      "Dot product dimensions mismatch for shapes (1, 2) and (2, 1): left rows != right rows.\n"
     ]
    },
    {
     "ename": "PanicException",
     "evalue": "Dot product dimensions mismatch for shapes (1, 2) and (2, 1): left rows != right rows.",
     "output_type": "error",
     "traceback": [
      "\u001b[0;31m---------------------------------------------------------------------------\u001b[0m",
      "\u001b[0;31mPanicException\u001b[0m                            Traceback (most recent call last)",
      "Cell \u001b[0;32mIn[6], line 1\u001b[0m\n\u001b[0;32m----> 1\u001b[0m \u001b[43ms\u001b[49m\u001b[38;5;241;43m.\u001b[39;49m\u001b[43msolve\u001b[49m\u001b[43m(\u001b[49m\u001b[43m[\u001b[49m\u001b[38;5;241;43m0\u001b[39;49m\u001b[43m,\u001b[49m\u001b[43m \u001b[49m\u001b[38;5;241;43m0\u001b[39;49m\u001b[43m]\u001b[49m\u001b[43m,\u001b[49m\u001b[43m \u001b[49m\u001b[43m[\u001b[49m\u001b[38;5;241;43m0\u001b[39;49m\u001b[43m,\u001b[49m\u001b[43m \u001b[49m\u001b[38;5;241;43m0\u001b[39;49m\u001b[43m]\u001b[49m\u001b[43m,\u001b[49m\u001b[43m \u001b[49m\u001b[38;5;28;43;01mlambda\u001b[39;49;00m\u001b[43m \u001b[49m\u001b[43mx\u001b[49m\u001b[43m,\u001b[49m\u001b[43m \u001b[49m\u001b[43mu\u001b[49m\u001b[43m:\u001b[49m\u001b[43m \u001b[49m\u001b[43mx\u001b[49m\u001b[43m,\u001b[49m\u001b[43m \u001b[49m\u001b[43mtime_steps\u001b[49m\u001b[38;5;241;43m=\u001b[39;49m\u001b[38;5;241;43m10\u001b[39;49m\u001b[43m)\u001b[49m\n",
      "\u001b[0;31mPanicException\u001b[0m: Dot product dimensions mismatch for shapes (1, 2) and (2, 1): left rows != right rows."
     ]
    }
   ],
   "source": [
    "s.solve([0, 0], [0, 0], lambda x, u: x, time_steps=10)"
   ]
  }
 ],
 "metadata": {
  "kernelspec": {
   "display_name": "ilqr_demo",
   "language": "python",
   "name": "python3"
  },
  "language_info": {
   "codemirror_mode": {
    "name": "ipython",
    "version": 3
   },
   "file_extension": ".py",
   "mimetype": "text/x-python",
   "name": "python",
   "nbconvert_exporter": "python",
   "pygments_lexer": "ipython3",
   "version": "3.10.16"
  }
 },
 "nbformat": 4,
 "nbformat_minor": 2
}
